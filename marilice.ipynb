{
  "nbformat": 4,
  "nbformat_minor": 0,
  "metadata": {
    "colab": {
      "provenance": [],
      "authorship_tag": "ABX9TyNj5iAwB94jEMvuaDs2P7AY",
      "include_colab_link": true
    },
    "kernelspec": {
      "name": "python3",
      "display_name": "Python 3"
    },
    "language_info": {
      "name": "python"
    }
  },
  "cells": [
    {
      "cell_type": "markdown",
      "metadata": {
        "id": "view-in-github",
        "colab_type": "text"
      },
      "source": [
        "<a href=\"https://colab.research.google.com/github/katrielaraujo/Zoo_tecnologia/blob/main/marilice.ipynb\" target=\"_parent\"><img src=\"https://colab.research.google.com/assets/colab-badge.svg\" alt=\"Open In Colab\"/></a>"
      ]
    },
    {
      "cell_type": "code",
      "execution_count": null,
      "metadata": {
        "colab": {
          "base_uri": "https://localhost:8080/"
        },
        "id": "TtClHtCdeTJz",
        "outputId": "eeae1a88-830b-43c7-d3d1-c79b7672c19c"
      },
      "outputs": [
        {
          "output_type": "stream",
          "name": "stdout",
          "text": [
            "Media tab1: 10.04\n",
            "Mediana tab1: 10.5\n",
            "Amplitude tab1: 19.2\n",
            "Desvio padrão tab1: 5.703525956225089\n",
            "Variancia tab1: 32.53020833333332\n",
            "Coeficiente de variação tab1: 56.80%\n",
            "------------------------------------------\n",
            "Media tab3: 25.71\n",
            "Mediana tab3: 25.25\n",
            "Amplitude tab3: 31.0\n",
            "Desvio padrão tab3: 8.279102709029926\n",
            "Variancia tab3: 68.54354166666666\n",
            "Coeficiente de variação tab3: 32.20%\n",
            "------------------------------------------\n",
            "Tabela 3------------------------------------------\n",
            "soma dos quadrados dos desvios:  1171.0875\n",
            "    Característica                 Xi - x   |Xi -x|^2\n",
            "0             28.0  20.20 - 10.04 = 10.16  103.191736\n",
            "1             32.8   16.00 - 10.04 = 5.96   35.501736\n",
            "2             14.0   2.00 - 10.04 = -8.04   64.668403\n",
            "3             27.0   13.00 - 10.04 = 2.96    8.751736\n",
            "4             40.0   3.50 - 10.04 = -6.54   42.793403\n",
            "5             35.6   3.50 - 10.04 = -6.54   42.793403\n",
            "6             17.0   8.00 - 10.04 = -2.04    4.168403\n",
            "7             18.5   4.50 - 10.04 = -5.54   30.710069\n",
            "8             24.0   13.60 - 10.04 = 3.56   12.661736\n",
            "9             19.0   4.50 - 10.04 = -5.54   30.710069\n",
            "10            20.0   5.00 - 10.04 = -5.04   25.418403\n",
            "11            43.0   6.00 - 10.04 = -4.04   16.335069\n",
            "12            22.2   13.40 - 10.04 = 3.36   11.278403\n",
            "13            22.8   4.00 - 10.04 = -6.04   36.501736\n",
            "14            38.0   8.00 - 10.04 = -2.04    4.168403\n",
            "15            18.5   1.00 - 10.04 = -9.04   81.751736\n",
            "16            25.0  10.00 - 10.04 = -0.04    0.001736\n",
            "17            39.0   11.00 - 10.04 = 0.96    0.918403\n",
            "18            21.0   12.00 - 10.04 = 1.96    3.835069\n",
            "19            26.0   2.80 - 10.04 = -7.24   52.441736\n",
            "20            26.0   13.00 - 10.04 = 2.96    8.751736\n",
            "21            30.0   7.00 - 10.04 = -3.04    9.251736\n",
            "22            37.0   4.50 - 10.04 = -5.54   30.710069\n",
            "23            25.0   14.00 - 10.04 = 3.96   15.668403\n",
            "24            29.0   16.50 - 10.04 = 6.46   41.710069\n",
            "25            27.0   20.00 - 10.04 = 9.96   99.168403\n",
            "26            31.2   15.00 - 10.04 = 4.96   24.585069\n",
            "27            12.0   15.50 - 10.04 = 5.46   29.793403\n",
            "28            33.4   2.00 - 10.04 = -8.04   64.668403\n",
            "29            16.0   16.00 - 10.04 = 5.96   35.501736\n",
            "30            36.0   14.00 - 10.04 = 3.96   15.668403\n",
            "31            15.0   17.00 - 10.04 = 6.96   48.418403\n",
            "32            23.0   18.00 - 10.04 = 7.96   63.335069\n",
            "33            12.0   15.00 - 10.04 = 4.96   24.585069\n",
            "34            16.0   9.00 - 10.04 = -1.04    1.085069\n",
            "35            25.5   3.00 - 10.04 = -7.04   49.585069\n"
          ]
        },
        {
          "output_type": "stream",
          "name": "stderr",
          "text": [
            "/usr/local/lib/python3.7/dist-packages/ipykernel_launcher.py:32: FutureWarning: As the xlwt package is no longer maintained, the xlwt engine will be removed in a future version of pandas. This is the only engine in pandas that supports writing in the xls format. Install openpyxl and write to an xlsx file instead. You can set the option io.excel.xls.writer to 'xlwt' to silence this warning. While this option is deprecated and will also raise a warning, it can be globally set and the warning suppressed.\n"
          ]
        }
      ],
      "source": [
        "import pandas as pd\n",
        "tab03 = [28.0,32.8,14.0,27.0,40.0,35.6,17.0,18.5,24.0,19.0,20.0,43.0,22.2,22.8,38.0,18.5,25.0,39.0,21.0,26.0,26.0,30.0,37.0,25.0,29.0,27.0,31.2,12.0,33.4,16.0,36.0,15.0,23.0,12.0,16.0,25.5];\n",
        "ordTab03 = sorted(tab03)\n",
        "\n",
        "tab01 = [20.2,16.0,2.0,13.0,3.5,3.5,8.0,4.5,13.6,4.5,5.0,6.0,13.4,4.0,8.0,1.0,10.0,11.0,12.0,2.8,13.0,7.0,4.5,14.0,16.5,20.0,15.0,15.5,2.0,16.0,14.0,17.0,18.0,15.0,9.0,3.0]\n",
        "ordTab01 = sorted(tab01)\n",
        "\n",
        "count = 1\n",
        "import numpy as np\n",
        "for i in [tab01,tab03]:\n",
        "  print(\"Media tab{0}: {1:.2f}\".format(count,np.mean(i)))\n",
        "  print(\"Mediana tab{0}: {1}\".format(count,np.median(i)))\n",
        "  print(\"Amplitude tab{0}: {1}\".format(count,np.max(i) - np.min(i)))\n",
        "  print(\"Desvio padrão tab{0}: {1}\".format(count,np.std(i)))\n",
        "  print(\"Variancia tab{0}: {1}\".format(count,np.var(i)))\n",
        "  print(\"Coeficiente de variação tab{0}: {1:.2f}%\".format(count,(np.std(i)/np.mean(i))*100))\n",
        "  count+=2\n",
        "  print(\"------------------------------------------\")\n",
        "print(\"Tabela 3------------------------------------------\")\n",
        "var1 = [];\n",
        "var1quad = [];\n",
        "for n in tab01:\n",
        "  var1.append(\"{0:.2f} - {1:.2f} = {2:.2f}\".format(n,np.mean(tab01),n - np.mean(tab01)))\n",
        "  var1quad.append((n - np.mean(tab01))**2)\n",
        "soma = 0\n",
        "for i in var1quad:\n",
        "  soma+=i\n",
        "print(\"soma dos quadrados dos desvios: \",soma)\n",
        "d3 = {'Característica':tab03,'Xi - x':var1,'|Xi -x|^2':var1quad}\n",
        "dados3 = pd.DataFrame(data=d3)\n",
        "print(dados3)\n",
        "dados3.to_excel('dados3.xls',index=False);"
      ]
    },
    {
      "cell_type": "code",
      "source": [],
      "metadata": {
        "id": "9_trPI2Jm3Uz"
      },
      "execution_count": null,
      "outputs": []
    }
  ]
}